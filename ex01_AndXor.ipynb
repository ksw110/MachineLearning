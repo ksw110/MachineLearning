{
 "cells": [
  {
   "cell_type": "markdown",
   "id": "659a22f9",
   "metadata": {},
   "source": [
    "### 목표\n",
    "- 데이터를 학습시켜 모델에게 and, xor 연산 패턴을 찾는다\n",
    "- 기본적인 머신러닝 과정을 이해한다."
   ]
  },
  {
   "cell_type": "code",
   "execution_count": 1,
   "id": "82f4bf1c",
   "metadata": {
    "ExecuteTime": {
     "end_time": "2023-01-25T01:50:21.182682Z",
     "start_time": "2023-01-25T01:50:20.598322Z"
    }
   },
   "outputs": [],
   "source": [
    "import pandas as pd"
   ]
  },
  {
   "cell_type": "code",
   "execution_count": 6,
   "id": "61200c6a",
   "metadata": {
    "ExecuteTime": {
     "end_time": "2023-01-25T01:53:52.356621Z",
     "start_time": "2023-01-25T01:53:52.320818Z"
    }
   },
   "outputs": [
    {
     "data": {
      "text/html": [
       "<div>\n",
       "<style scoped>\n",
       "    .dataframe tbody tr th:only-of-type {\n",
       "        vertical-align: middle;\n",
       "    }\n",
       "\n",
       "    .dataframe tbody tr th {\n",
       "        vertical-align: top;\n",
       "    }\n",
       "\n",
       "    .dataframe thead th {\n",
       "        text-align: right;\n",
       "    }\n",
       "</style>\n",
       "<table border=\"1\" class=\"dataframe\">\n",
       "  <thead>\n",
       "    <tr style=\"text-align: right;\">\n",
       "      <th></th>\n",
       "      <th>A</th>\n",
       "      <th>B</th>\n",
       "      <th>AandB</th>\n",
       "    </tr>\n",
       "  </thead>\n",
       "  <tbody>\n",
       "    <tr>\n",
       "      <th>0</th>\n",
       "      <td>0</td>\n",
       "      <td>0</td>\n",
       "      <td>0</td>\n",
       "    </tr>\n",
       "    <tr>\n",
       "      <th>1</th>\n",
       "      <td>0</td>\n",
       "      <td>1</td>\n",
       "      <td>0</td>\n",
       "    </tr>\n",
       "    <tr>\n",
       "      <th>2</th>\n",
       "      <td>1</td>\n",
       "      <td>0</td>\n",
       "      <td>0</td>\n",
       "    </tr>\n",
       "    <tr>\n",
       "      <th>3</th>\n",
       "      <td>1</td>\n",
       "      <td>1</td>\n",
       "      <td>1</td>\n",
       "    </tr>\n",
       "  </tbody>\n",
       "</table>\n",
       "</div>"
      ],
      "text/plain": [
       "   A  B  AandB\n",
       "0  0  0      0\n",
       "1  0  1      0\n",
       "2  1  0      0\n",
       "3  1  1      1"
      ]
     },
     "execution_count": 6,
     "metadata": {},
     "output_type": "execute_result"
    }
   ],
   "source": [
    "data = {'A':[0,0,1,1],\n",
    "       'B':[0,1,0,1],\n",
    "       'AandB':[0,0,0,1]}\n",
    "df = pd.DataFrame(data)\n",
    "df"
   ]
  },
  {
   "cell_type": "markdown",
   "id": "47dc42bb",
   "metadata": {},
   "source": [
    "#### 문제와 답으로 분리\n",
    "- X : 문제 = 속성 = 특성 = 특징 = 피쳐(feature) - 2차원이라 대문자 X\n",
    "- y : 답  = 레이블(label) = 타겟(target) - 1차원이라 소문자 y"
   ]
  },
  {
   "cell_type": "code",
   "execution_count": 13,
   "id": "4a9008ad",
   "metadata": {
    "ExecuteTime": {
     "end_time": "2023-01-25T02:15:53.858421Z",
     "start_time": "2023-01-25T02:15:53.848449Z"
    }
   },
   "outputs": [
    {
     "data": {
      "text/plain": [
       "0    0\n",
       "1    0\n",
       "2    0\n",
       "3    1\n",
       "Name: AandB, dtype: int64"
      ]
     },
     "execution_count": 13,
     "metadata": {},
     "output_type": "execute_result"
    }
   ],
   "source": [
    "X = df[['A','B']]\n",
    "X = df.loc[:,['A','B']]\n",
    "X = df.loc[:,'A':'B']\n",
    "X = df.iloc[:,[0,1]]\n",
    "# 훈련데이터의 경우 train으로 구분\n",
    "X_train = df.iloc[:,:2]\n",
    "\n",
    "y_train = df['AandB']\n",
    "y_train"
   ]
  },
  {
   "cell_type": "code",
   "execution_count": 14,
   "id": "4a9978ef",
   "metadata": {
    "ExecuteTime": {
     "end_time": "2023-01-25T02:17:38.088956Z",
     "start_time": "2023-01-25T02:17:38.072999Z"
    }
   },
   "outputs": [
    {
     "name": "stdout",
     "output_type": "stream",
     "text": [
      "(4, 2)\n",
      "(4,)\n"
     ]
    }
   ],
   "source": [
    "# 크기확인\n",
    "print(X_train.shape)\n",
    "print(y_train.shape)"
   ]
  },
  {
   "cell_type": "markdown",
   "id": "966905b7",
   "metadata": {},
   "source": [
    "#### ML 모델 학습"
   ]
  },
  {
   "cell_type": "code",
   "execution_count": 15,
   "id": "4c737232",
   "metadata": {
    "ExecuteTime": {
     "end_time": "2023-01-25T02:21:58.892802Z",
     "start_time": "2023-01-25T02:21:58.889810Z"
    }
   },
   "outputs": [],
   "source": [
    "# scikit-learn 머신러닝용 패키지 라이브러리\n",
    "from sklearn.neighbors import KNeighborsClassifier # 분류모델"
   ]
  },
  {
   "cell_type": "code",
   "execution_count": 16,
   "id": "8dd85021",
   "metadata": {
    "ExecuteTime": {
     "end_time": "2023-01-25T02:26:20.832469Z",
     "start_time": "2023-01-25T02:26:20.810515Z"
    }
   },
   "outputs": [],
   "source": [
    "# 모델 객체 생성 + HyperParameter 설정\n",
    "knn_model = KNeighborsClassifier(n_neighbors=1)\n",
    "\n",
    "# KNN 최근접 이웃 알고리즘\n",
    "# 문제 데이터와 가장 가까운 이웃 데이터와\n",
    "# 실제 답을 확인하여 결과를 예측하는 모델"
   ]
  },
  {
   "cell_type": "code",
   "execution_count": 17,
   "id": "4b983852",
   "metadata": {
    "ExecuteTime": {
     "end_time": "2023-01-25T02:28:37.057948Z",
     "start_time": "2023-01-25T02:28:37.039996Z"
    }
   },
   "outputs": [
    {
     "data": {
      "text/plain": [
       "KNeighborsClassifier(n_neighbors=1)"
      ]
     },
     "execution_count": 17,
     "metadata": {},
     "output_type": "execute_result"
    }
   ],
   "source": [
    "# 모델 학습\n",
    "# fit(학습용 문제, 학습용 답) : 데이터에 맞춰서 모델이 학습한다.\n",
    "knn_model.fit(X_train,y_train)"
   ]
  },
  {
   "cell_type": "code",
   "execution_count": 19,
   "id": "86d105e2",
   "metadata": {
    "ExecuteTime": {
     "end_time": "2023-01-25T02:32:26.463669Z",
     "start_time": "2023-01-25T02:32:26.448708Z"
    }
   },
   "outputs": [
    {
     "name": "stderr",
     "output_type": "stream",
     "text": [
      "C:\\Users\\smhrd\\anaconda3\\lib\\site-packages\\sklearn\\base.py:450: UserWarning: X does not have valid feature names, but KNeighborsClassifier was fitted with feature names\n",
      "  warnings.warn(\n",
      "C:\\Users\\smhrd\\anaconda3\\lib\\site-packages\\sklearn\\neighbors\\_classification.py:228: FutureWarning: Unlike other reduction functions (e.g. `skew`, `kurtosis`), the default behavior of `mode` typically preserves the axis it acts along. In SciPy 1.11.0, this behavior will change: the default value of `keepdims` will become False, the `axis` over which the statistic is taken will be eliminated, and the value None will no longer be accepted. Set `keepdims` to True or False to avoid this warning.\n",
      "  mode, _ = stats.mode(_y[neigh_ind, k], axis=1)\n"
     ]
    },
    {
     "data": {
      "text/plain": [
       "array([0, 1], dtype=int64)"
      ]
     },
     "execution_count": 19,
     "metadata": {},
     "output_type": "execute_result"
    }
   ],
   "source": [
    "# 예측\n",
    "# predict(X_test) 테스트용 문제\n",
    "# 임의의 데이터 [[0,1],[1,1]]\n",
    "# 실제 답 [0,1]\n",
    "pre = knn_model.predict([[0,1],[1,1]])\n",
    "pre"
   ]
  },
  {
   "cell_type": "code",
   "execution_count": 21,
   "id": "53511ee6",
   "metadata": {
    "ExecuteTime": {
     "end_time": "2023-01-25T02:36:11.625589Z",
     "start_time": "2023-01-25T02:36:11.608891Z"
    }
   },
   "outputs": [
    {
     "data": {
      "text/plain": [
       "100.0"
      ]
     },
     "execution_count": 21,
     "metadata": {},
     "output_type": "execute_result"
    }
   ],
   "source": [
    "# 평가 \n",
    "from sklearn.metrics import accuracy_score\n",
    "# accuracy_score(예측결과,실제답)\n",
    "accuracy_score(pre,[0,1])*100"
   ]
  },
  {
   "cell_type": "code",
   "execution_count": null,
   "id": "16112be8",
   "metadata": {},
   "outputs": [],
   "source": []
  },
  {
   "cell_type": "code",
   "execution_count": null,
   "id": "6f493206",
   "metadata": {},
   "outputs": [],
   "source": []
  },
  {
   "cell_type": "code",
   "execution_count": null,
   "id": "371074f6",
   "metadata": {},
   "outputs": [],
   "source": []
  },
  {
   "cell_type": "code",
   "execution_count": null,
   "id": "93d46dc3",
   "metadata": {},
   "outputs": [],
   "source": []
  }
 ],
 "metadata": {
  "kernelspec": {
   "display_name": "Python 3 (ipykernel)",
   "language": "python",
   "name": "python3"
  },
  "language_info": {
   "codemirror_mode": {
    "name": "ipython",
    "version": 3
   },
   "file_extension": ".py",
   "mimetype": "text/x-python",
   "name": "python",
   "nbconvert_exporter": "python",
   "pygments_lexer": "ipython3",
   "version": "3.9.13"
  },
  "toc": {
   "base_numbering": 1,
   "nav_menu": {},
   "number_sections": true,
   "sideBar": true,
   "skip_h1_title": false,
   "title_cell": "Table of Contents",
   "title_sidebar": "Contents",
   "toc_cell": false,
   "toc_position": {},
   "toc_section_display": true,
   "toc_window_display": false
  }
 },
 "nbformat": 4,
 "nbformat_minor": 5
}
