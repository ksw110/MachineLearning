{
 "cells": [
  {
   "cell_type": "code",
   "execution_count": 1,
   "id": "a61c49ec",
   "metadata": {
    "ExecuteTime": {
     "end_time": "2023-02-08T05:39:19.369864Z",
     "start_time": "2023-02-08T05:39:16.908753Z"
    }
   },
   "outputs": [],
   "source": [
    "import numpy as np\n",
    "import pandas as pd\n",
    "import matplotlib.pyplot as plt\n",
    "\n",
    "# KNN 모델\n",
    "from sklearn.neighbors import KNeighborsClassifier\n",
    "# 결정트리 모델\n",
    "from sklearn.tree import DecisionTreeClassifier\n",
    "# 랜덤포레스트 모델\n",
    "from sklearn.ensemble import RandomForestClassifier\n",
    "\n",
    "# iris 데이터\n",
    "from sklearn.datasets import load_iris\n",
    "from sklearn.model_selection import train_test_split\n",
    "\n",
    "# 그리드 서치 임포트\n",
    "from sklearn.model_selection import GridSearchCV"
   ]
  },
  {
   "cell_type": "code",
   "execution_count": 2,
   "id": "23c56079",
   "metadata": {
    "ExecuteTime": {
     "end_time": "2023-02-08T05:40:33.840221Z",
     "start_time": "2023-02-08T05:40:33.816459Z"
    }
   },
   "outputs": [],
   "source": [
    "iris = load_iris()\n",
    "\n",
    "X_train, X_test, y_train, y_test = train_test_split(iris['data'],\n",
    "                                                   iris['target'],\n",
    "                                                   test_size = 0.3,\n",
    "                                                   random_state = 3)"
   ]
  },
  {
   "cell_type": "code",
   "execution_count": 3,
   "id": "e31ee797",
   "metadata": {
    "ExecuteTime": {
     "end_time": "2023-02-08T05:40:57.403171Z",
     "start_time": "2023-02-08T05:40:57.384251Z"
    }
   },
   "outputs": [
    {
     "data": {
      "text/plain": [
       "((105, 4), (105,), (45, 4), (45,))"
      ]
     },
     "execution_count": 3,
     "metadata": {},
     "output_type": "execute_result"
    }
   ],
   "source": [
    "X_train.shape, y_train.shape, X_test.shape, y_test.shape"
   ]
  },
  {
   "cell_type": "markdown",
   "id": "d0740f03",
   "metadata": {},
   "source": [
    "### KNN 모델에 그리드 서치 적용"
   ]
  },
  {
   "cell_type": "code",
   "execution_count": 4,
   "id": "b10f849f",
   "metadata": {
    "ExecuteTime": {
     "end_time": "2023-02-08T05:47:35.206227Z",
     "start_time": "2023-02-08T05:47:35.193261Z"
    }
   },
   "outputs": [],
   "source": [
    "param_knn = {'n_neighbors':range(1,10,1)}\n",
    "\n",
    "# GridSearchCV(모델, 하이퍼파라미터 및 범위, 교차검증 수)\n",
    "grid_search_knn = GridSearchCV(KNeighborsClassifier(), param_knn, cv=10)"
   ]
  },
  {
   "cell_type": "code",
   "execution_count": 6,
   "id": "97237988",
   "metadata": {
    "ExecuteTime": {
     "end_time": "2023-02-08T05:48:24.017454Z",
     "start_time": "2023-02-08T05:48:24.008120Z"
    }
   },
   "outputs": [],
   "source": [
    "import warnings\n",
    "warnings.filterwarnings('ignore')"
   ]
  },
  {
   "cell_type": "code",
   "execution_count": 7,
   "id": "730a7cb3",
   "metadata": {
    "ExecuteTime": {
     "end_time": "2023-02-08T05:48:26.028886Z",
     "start_time": "2023-02-08T05:48:25.902939Z"
    }
   },
   "outputs": [
    {
     "data": {
      "text/plain": [
       "GridSearchCV(cv=10, estimator=KNeighborsClassifier(),\n",
       "             param_grid={'n_neighbors': range(1, 10)})"
      ]
     },
     "execution_count": 7,
     "metadata": {},
     "output_type": "execute_result"
    }
   ],
   "source": [
    "grid_search_knn.fit(X_train,y_train)"
   ]
  },
  {
   "cell_type": "code",
   "execution_count": 8,
   "id": "65992825",
   "metadata": {
    "ExecuteTime": {
     "end_time": "2023-02-08T05:52:01.058009Z",
     "start_time": "2023-02-08T05:52:01.043044Z"
    }
   },
   "outputs": [
    {
     "name": "stdout",
     "output_type": "stream",
     "text": [
      "최적의 하이퍼파라미터 :  {'n_neighbors': 9}\n",
      "최고 교차 검증 점수(정확도) :  0.970909090909091\n",
      "최고 성능 모델 :  KNeighborsClassifier(n_neighbors=9)\n"
     ]
    }
   ],
   "source": [
    "print('최적의 하이퍼파라미터 : ', grid_search_knn.best_params_)\n",
    "print('최고 교차 검증 점수(정확도) : ', grid_search_knn.best_score_)\n",
    "# 최고 성능 모델은 grid_search_knn 객체에 저장되어 있기 때문에 쓰지 않아도 됨\n",
    "print('최고 성능 모델 : ', grid_search_knn.best_estimator_)"
   ]
  },
  {
   "cell_type": "code",
   "execution_count": 9,
   "id": "f07234ce",
   "metadata": {
    "ExecuteTime": {
     "end_time": "2023-02-08T05:54:51.985760Z",
     "start_time": "2023-02-08T05:54:51.967490Z"
    }
   },
   "outputs": [
    {
     "data": {
      "text/plain": [
       "0.9777777777777777"
      ]
     },
     "execution_count": 9,
     "metadata": {},
     "output_type": "execute_result"
    }
   ],
   "source": [
    "grid_search_knn.score(X_test,y_test)"
   ]
  },
  {
   "cell_type": "markdown",
   "id": "260eaee5",
   "metadata": {},
   "source": [
    "### 디시전트리 모델에 그리드 서치 적용\n",
    "- max_depth 범위 : range(1,5,1)\n",
    "- max_leaf_node 범위 : range(1,50,10)\n",
    "- min_samples_leaf 범위 : range(1,150,10)"
   ]
  },
  {
   "cell_type": "code",
   "execution_count": 12,
   "id": "35fa2c20",
   "metadata": {
    "ExecuteTime": {
     "end_time": "2023-02-08T06:21:18.609955Z",
     "start_time": "2023-02-08T06:21:18.600979Z"
    }
   },
   "outputs": [],
   "source": [
    "param_deci = {'max_depth':range(1,5,1), # 1,2,3,4,5\n",
    "             'max_leaf_nodes':range(1,50,10), #1,11,21,31,41\n",
    "             'min_samples_leaf':range(1,150,10)} # 1,11,21,31,41,51,.....141\n",
    "grid_search_deci = GridSearchCV(DecisionTreeClassifier(), param_deci, cv=10)"
   ]
  },
  {
   "cell_type": "code",
   "execution_count": 13,
   "id": "24f0093c",
   "metadata": {
    "ExecuteTime": {
     "end_time": "2023-02-08T06:21:22.620273Z",
     "start_time": "2023-02-08T06:21:20.608057Z"
    }
   },
   "outputs": [
    {
     "data": {
      "text/plain": [
       "GridSearchCV(cv=10, estimator=DecisionTreeClassifier(),\n",
       "             param_grid={'max_depth': range(1, 5),\n",
       "                         'max_leaf_nodes': range(1, 50, 10),\n",
       "                         'min_samples_leaf': range(1, 150, 10)})"
      ]
     },
     "execution_count": 13,
     "metadata": {},
     "output_type": "execute_result"
    }
   ],
   "source": [
    "grid_search_deci.fit(X_train,y_train)"
   ]
  },
  {
   "cell_type": "code",
   "execution_count": 14,
   "id": "1c82491a",
   "metadata": {
    "ExecuteTime": {
     "end_time": "2023-02-08T06:24:45.999841Z",
     "start_time": "2023-02-08T06:24:45.992858Z"
    }
   },
   "outputs": [
    {
     "name": "stdout",
     "output_type": "stream",
     "text": [
      "최적의 하이퍼파라미터 :  {'max_depth': 4, 'max_leaf_nodes': 21, 'min_samples_leaf': 1}\n",
      "최고 교차 검증 점수(정확도) :  0.9427272727272727\n",
      "최고 성능 모델 :  DecisionTreeClassifier(max_depth=4, max_leaf_nodes=21)\n"
     ]
    }
   ],
   "source": [
    "print('최적의 하이퍼파라미터 : ', grid_search_deci.best_params_)\n",
    "print('최고 교차 검증 점수(정확도) : ', grid_search_deci.best_score_)\n",
    "# 최고 성능 모델은 grid_search_knn 객체에 저장되어 있기 때문에 쓰지 않아도 됨\n",
    "print('최고 성능 모델 : ', grid_search_deci.best_estimator_)"
   ]
  },
  {
   "cell_type": "markdown",
   "id": "a53d1440",
   "metadata": {},
   "source": [
    "### 랜덤 포레스트 모델에 그리드 서치 적용\n",
    "- n_estimators : range(1,20,5)"
   ]
  },
  {
   "cell_type": "code",
   "execution_count": 15,
   "id": "706ac6e3",
   "metadata": {
    "ExecuteTime": {
     "end_time": "2023-02-08T06:30:46.767596Z",
     "start_time": "2023-02-08T06:30:46.751638Z"
    }
   },
   "outputs": [
    {
     "data": {
      "text/plain": [
       "RandomForestClassifier()"
      ]
     },
     "execution_count": 15,
     "metadata": {},
     "output_type": "execute_result"
    }
   ],
   "source": [
    "RandomForestClassifier()"
   ]
  },
  {
   "cell_type": "code",
   "execution_count": null,
   "id": "bfcfcb63",
   "metadata": {},
   "outputs": [],
   "source": []
  },
  {
   "cell_type": "code",
   "execution_count": null,
   "id": "c57faa71",
   "metadata": {},
   "outputs": [],
   "source": []
  },
  {
   "cell_type": "code",
   "execution_count": null,
   "id": "0988d393",
   "metadata": {},
   "outputs": [],
   "source": []
  },
  {
   "cell_type": "code",
   "execution_count": null,
   "id": "1b4bb558",
   "metadata": {},
   "outputs": [],
   "source": []
  },
  {
   "cell_type": "code",
   "execution_count": null,
   "id": "e31e40b2",
   "metadata": {},
   "outputs": [],
   "source": []
  },
  {
   "cell_type": "code",
   "execution_count": null,
   "id": "8f38c423",
   "metadata": {},
   "outputs": [],
   "source": []
  },
  {
   "cell_type": "code",
   "execution_count": null,
   "id": "425f4702",
   "metadata": {},
   "outputs": [],
   "source": []
  },
  {
   "cell_type": "code",
   "execution_count": null,
   "id": "e19650d5",
   "metadata": {},
   "outputs": [],
   "source": []
  }
 ],
 "metadata": {
  "kernelspec": {
   "display_name": "Python 3 (ipykernel)",
   "language": "python",
   "name": "python3"
  },
  "language_info": {
   "codemirror_mode": {
    "name": "ipython",
    "version": 3
   },
   "file_extension": ".py",
   "mimetype": "text/x-python",
   "name": "python",
   "nbconvert_exporter": "python",
   "pygments_lexer": "ipython3",
   "version": "3.9.13"
  },
  "toc": {
   "base_numbering": 1,
   "nav_menu": {},
   "number_sections": true,
   "sideBar": true,
   "skip_h1_title": false,
   "title_cell": "Table of Contents",
   "title_sidebar": "Contents",
   "toc_cell": false,
   "toc_position": {},
   "toc_section_display": true,
   "toc_window_display": false
  }
 },
 "nbformat": 4,
 "nbformat_minor": 5
}
